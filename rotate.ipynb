{
 "cells": [
  {
   "cell_type": "code",
   "execution_count": 17,
   "metadata": {},
   "outputs": [
    {
     "name": "stdout",
     "output_type": "stream",
     "text": [
      "[[ 0.9998477  -0.01745241  0.        ]\n",
      " [ 0.01745241  0.9998477   0.        ]\n",
      " [ 0.          0.          1.        ]]\n",
      "[-1011.68617932    87.787012    -244.        ]\n",
      "[-1.686179318637869, -17.642988001318002, 0.0]\n"
     ]
    }
   ],
   "source": [
    "import numpy as np\n",
    "import math\n",
    "import scipy.linalg as linalg\n",
    "import matplotlib as mpl \n",
    "from mpl_toolkits.mplot3d import Axes3D \n",
    "import matplotlib.pyplot as plt \n",
    "\n",
    "#旋转矩阵 欧拉角\n",
    "def rotate_mat(axis, radian):\n",
    "    rot_matrix = linalg.expm(np.cross(np.eye(3), axis / linalg.norm(axis) * radian))\n",
    "    return rot_matrix\n",
    "# 分别是x,y和z轴,也可以自定义旋转轴\n",
    "axis_x, axis_y, axis_z = [1,0,0], [0,1,0], [0, 0, 1]\n",
    "rand_axis = [0,0,1]\n",
    "#旋转角度\n",
    "yaw = math.pi/180\n",
    "#返回旋转矩阵\n",
    "rot_matrix = rotate_mat(rand_axis, yaw)\n",
    "print(rot_matrix)\n",
    "# 计算点绕着轴运动后的点\n",
    "x = [-1010,105.43,-244]\n",
    "x1 = np.dot(rot_matrix,x)\n",
    "# 旋转后的坐标\n",
    "print(x1)   \n",
    "# 计算各轴偏移量\n",
    "print([x1[i]-x[i] for i in range(3)])\n"
   ]
  },
  {
   "cell_type": "code",
   "execution_count": 22,
   "metadata": {},
   "outputs": [],
   "source": [
    "b = "
   ]
  },
  {
   "cell_type": "code",
   "execution_count": 27,
   "metadata": {},
   "outputs": [],
   "source": [
    "x1 = np.dot(rot_matrix,np.array([3,2,3]))"
   ]
  },
  {
   "cell_type": "code",
   "execution_count": 28,
   "metadata": {},
   "outputs": [
    {
     "data": {
      "text/plain": [
       "array([2.96463827, 2.05205261, 3.        ])"
      ]
     },
     "execution_count": 28,
     "metadata": {},
     "output_type": "execute_result"
    }
   ],
   "source": [
    "x1"
   ]
  },
  {
   "cell_type": "code",
   "execution_count": 30,
   "metadata": {},
   "outputs": [
    {
     "data": {
      "text/plain": [
       "array([1, 1, 2, 3])"
      ]
     },
     "execution_count": 30,
     "metadata": {},
     "output_type": "execute_result"
    }
   ],
   "source": [
    "np.hstack(([1],[1,2,3]))"
   ]
  },
  {
   "cell_type": "code",
   "execution_count": null,
   "metadata": {},
   "outputs": [],
   "source": []
  }
 ],
 "metadata": {
  "kernelspec": {
   "display_name": "Python 3",
   "language": "python",
   "name": "python3"
  },
  "language_info": {
   "codemirror_mode": {
    "name": "ipython",
    "version": 3
   },
   "file_extension": ".py",
   "mimetype": "text/x-python",
   "name": "python",
   "nbconvert_exporter": "python",
   "pygments_lexer": "ipython3",
   "version": "3.8.3"
  }
 },
 "nbformat": 4,
 "nbformat_minor": 4
}
