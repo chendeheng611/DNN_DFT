{
 "cells": [
  {
   "cell_type": "code",
   "execution_count": 11,
   "metadata": {},
   "outputs": [],
   "source": [
    "import os\n",
    "import sys\n",
    "import os.path\n",
    "import shutil\n",
    "import fnmatch\n",
    "\n"
   ]
  },
  {
   "cell_type": "code",
   "execution_count": 12,
   "metadata": {},
   "outputs": [],
   "source": [
    "def suffix(file, *suffixName):\n",
    "    array = map(file.endswith, suffixName)\n",
    "    if True in array:\n",
    "        return True\n",
    "    else:\n",
    "        return False\n",
    "    \n",
    "    "
   ]
  },
  {
   "cell_type": "code",
   "execution_count": 13,
   "metadata": {},
   "outputs": [],
   "source": [
    "def extractFile():\n",
    "#sourceDIr = eachFIle(filePath)\n",
    "    sourceDir = \"D:\\\\project_material\\\\data\"\n",
    "    targetDir = \"D:\\\\target\"\n",
    "    for root, dirs, files in os.walk(\"D:\\\\project_material\\\\data\"):\n",
    "        for name in files:\n",
    "            if fnmatch.fnmatch(name,\"*.outmol\"):\n",
    "                sourceFile = os.path.join(root,name)\n",
    "                shutil.copy(sourceFile,targetDir)"
   ]
  },
  {
   "cell_type": "code",
   "execution_count": 14,
   "metadata": {},
   "outputs": [],
   "source": [
    "if __name__=='__main__':\n",
    "    extractFile()"
   ]
  },
  {
   "cell_type": "code",
   "execution_count": null,
   "metadata": {},
   "outputs": [],
   "source": []
  }
 ],
 "metadata": {
  "kernelspec": {
   "display_name": "Python 3",
   "language": "python",
   "name": "python3"
  },
  "language_info": {
   "codemirror_mode": {
    "name": "ipython",
    "version": 3
   },
   "file_extension": ".py",
   "mimetype": "text/x-python",
   "name": "python",
   "nbconvert_exporter": "python",
   "pygments_lexer": "ipython3",
   "version": "3.8.3"
  }
 },
 "nbformat": 4,
 "nbformat_minor": 2
}
